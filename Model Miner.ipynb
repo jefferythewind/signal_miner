{
 "cells": [
  {
   "cell_type": "code",
   "execution_count": 1,
   "metadata": {},
   "outputs": [],
   "source": [
    "from signal_miner import *\n",
    "\n",
    "import pandas as pd\n",
    "import numpy as np\n",
    "import random\n",
    "from numerapi import NumerAPI\n",
    "import lightgbm as lgb\n",
    "import pickle\n",
    "import os\n",
    "from multiprocessing import Pool\n",
    "from sklearn.model_selection import TimeSeriesSplit\n",
    "import matplotlib.pyplot as plt"
   ]
  },
  {
   "cell_type": "code",
   "execution_count": 2,
   "metadata": {},
   "outputs": [
    {
     "name": "stderr",
     "output_type": "stream",
     "text": [
      "2025-01-28 15:24:30,551 INFO numerapi.utils: target file already exists\n",
      "2025-01-28 15:24:30,551 INFO numerapi.utils: download complete\n",
      "2025-01-28 15:24:31,076 INFO numerapi.utils: target file already exists\n",
      "2025-01-28 15:24:31,077 INFO numerapi.utils: download complete\n"
     ]
    }
   ],
   "source": [
    "# Download and initialize data\n",
    "napi = NumerAPI()\n",
    "napi.download_dataset(\"v5.0/train.parquet\", \"v5.0/train.parquet\")\n",
    "napi.download_dataset(\"v5.0/validation.parquet\", \"v5.0/validation.parquet\")\n",
    "\n",
    "data = pd.concat([ pd.read_parquet(\"v5.0/train.parquet\"), pd.read_parquet(\"v5.0/validation.parquet\") ])\n",
    "\n",
    "targets = [t for t in data.columns if 'target' in t]\n",
    "feature_cols = [c for c in data.columns if 'feature' in c]\n",
    "\n",
    "data['era'] = data['era'].astype('int')\n",
    "data[targets] = (data[targets] * 4).astype('Int8')\n",
    "\n",
    "eras = np.array(sorted(data['era'].unique()))"
   ]
  },
  {
   "cell_type": "code",
   "execution_count": 3,
   "metadata": {},
   "outputs": [
    {
     "name": "stdout",
     "output_type": "stream",
     "text": [
      "[LightGBM] [Info] Auto-choosing row-wise multi-threading, the overhead of testing was 0.543680 seconds.\n",
      "You can set `force_row_wise=true` to remove the overhead.\n",
      "And if memory is not enough, you can set `force_col_wise=true`.\n",
      "[LightGBM] [Info] Total Bins 11880\n",
      "[LightGBM] [Info] Number of data points in the train set: 1708483, number of used features: 2376\n",
      "[LightGBM] [Info] Start training from score 2.000125\n",
      "[LightGBM] [Info] Auto-choosing col-wise multi-threading, the overhead of testing was 29.781438 seconds.\n",
      "You can set `force_col_wise=true` to remove the overhead.\n",
      "[LightGBM] [Info] Total Bins 11880\n",
      "[LightGBM] [Info] Number of data points in the train set: 3799413, number of used features: 2376\n",
      "[LightGBM] [Info] Start training from score 2.000112\n",
      "[LightGBM] [Info] Auto-choosing col-wise multi-threading, the overhead of testing was 13.080211 seconds.\n",
      "You can set `force_col_wise=true` to remove the overhead.\n",
      "[LightGBM] [Info] Total Bins 11880\n",
      "[LightGBM] [Info] Number of data points in the train set: 1708483, number of used features: 2376\n",
      "[LightGBM] [Info] Start training from score 1.999782\n",
      "[LightGBM] [Info] Auto-choosing col-wise multi-threading, the overhead of testing was 27.936195 seconds.\n",
      "You can set `force_col_wise=true` to remove the overhead.\n",
      "[LightGBM] [Info] Total Bins 11880\n",
      "[LightGBM] [Info] Number of data points in the train set: 3799413, number of used features: 2376\n",
      "[LightGBM] [Info] Start training from score 1.999801\n",
      "[LightGBM] [Info] Auto-choosing col-wise multi-threading, the overhead of testing was 11.194355 seconds.\n",
      "You can set `force_col_wise=true` to remove the overhead.\n",
      "[LightGBM] [Info] Total Bins 7128\n",
      "[LightGBM] [Info] Number of data points in the train set: 1708483, number of used features: 2376\n",
      "[LightGBM] [Info] Start training from score 1.999782\n",
      "[LightGBM] [Info] Auto-choosing col-wise multi-threading, the overhead of testing was 26.504279 seconds.\n",
      "You can set `force_col_wise=true` to remove the overhead.\n",
      "[LightGBM] [Info] Total Bins 7128\n",
      "[LightGBM] [Info] Number of data points in the train set: 3799413, number of used features: 2376\n",
      "[LightGBM] [Info] Start training from score 1.999801\n",
      "[LightGBM] [Info] Auto-choosing col-wise multi-threading, the overhead of testing was 13.912194 seconds.\n",
      "You can set `force_col_wise=true` to remove the overhead.\n",
      "[LightGBM] [Info] Total Bins 8875\n",
      "[LightGBM] [Info] Number of data points in the train set: 1708483, number of used features: 2376\n",
      "[LightGBM] [Info] Start training from score 1.999997\n"
     ]
    }
   ],
   "source": [
    "# Define the benchmark configuration\n",
    "benchmark_cfg = {\n",
    "    \"colsample_bytree\": 0.1,\n",
    "    \"max_bin\": 5,\n",
    "    \"max_depth\": 5,\n",
    "    \"num_leaves\": 2**4-1,\n",
    "    \"min_child_samples\": 20,\n",
    "    \"n_estimators\": 2000,\n",
    "    \"reg_lambda\": 0.0,\n",
    "    \"learning_rate\": 0.01,\n",
    "    \"target\": 'target'  # Use the first target for simplicity\n",
    "}\n",
    "\n",
    "# Parameter dictionary\n",
    "param_dict = {\n",
    "    'colsample_bytree': list(np.linspace(0.001, 1, 100)), \n",
    "    'reg_lambda': list(np.linspace(0, 100_000, 10000)),\n",
    "    'learning_rate': list( np.linspace(.00001, 1.0, 1000, dtype='float') ),\n",
    "    'max_bin' : list(np.linspace(2, 5, 4, dtype='int')),\n",
    "    'max_depth': list(np.linspace(2, 12, 11, dtype='int')),# [5, 10, 15, 20, 25, 50, 100],\n",
    "    'num_leaves': list(np.linspace(2, 24, 15, dtype='int')),#, 4112],#, 8192, 32768],\n",
    "    'min_child_samples': list( np.linspace(1,250,250,dtype='int') ),\n",
    "    'n_estimators': list( np.linspace(10,2000,1990,dtype='int') ),#,75,100,150,200],#, 500, 700, 900, 1200], \n",
    "    'target':targets,\n",
    "}\n",
    "\n",
    "# Cross-validation splits\n",
    "ns = 2\n",
    "all_splits = list(TimeSeriesSplit(n_splits=ns, max_train_size=100_000_000, gap=12).split(eras))\n",
    "\n",
    "niter = 1000  # Small number for testing\n",
    "configurations = get_rdn_cfgs(param_dict, niter)\n",
    "\n",
    "# Add benchmark configuration as the first entry\n",
    "configurations.insert(0, benchmark_cfg)\n",
    "\n",
    "# Keep track of the benchmark ID (always 0 in this case)\n",
    "BENCHMARK_ID = 0\n",
    "\n",
    "# Prepare memory-mapped files\n",
    "os.makedirs(\"results\", exist_ok=True)\n",
    "mmapped_array = np.memmap(\n",
    "    os.path.join(\"results\", \"test_mmapped_array.dat\"),\n",
    "    dtype='float16', mode='w+', shape=(len(data), len(configurations))\n",
    ")\n",
    "done_splits = np.memmap(\n",
    "    os.path.join(\"results\", \"test_done_splits.dat\"),\n",
    "    dtype='float16', mode='w+', shape=(len(all_splits) * len(configurations))\n",
    ")\n",
    "data['mmap_idx'] = range(len(data))\n",
    "\n",
    "# Define the processing function\n",
    "def process_split(task):\n",
    "    train_didxs, test_didxs, k, cfg, split_id, split_num = task\n",
    "    try:\n",
    "        label = cfg['target']\n",
    "        train_rows = (data['era'].isin(eras[train_didxs])) & (~data[label].isna())\n",
    "        test_rows = (data['era'].isin(eras[test_didxs])) & (~data[label].isna())\n",
    "\n",
    "        model = get_model(cfg)\n",
    "\n",
    "        model.fit(\n",
    "            data.loc[train_rows, feature_cols].values,\n",
    "            data.loc[train_rows, label].values\n",
    "        )\n",
    "\n",
    "        result_vector = model.predict(data.loc[test_rows, feature_cols].values)\n",
    "        mmapped_array[data.loc[test_rows, 'mmap_idx'].values, k] = result_vector\n",
    "        done_splits[split_id] = 1\n",
    "        done_splits.flush()\n",
    "    except Exception as e:\n",
    "        print(f\"Error in process_split: {e}\")\n",
    "\n",
    "# Start mining\n",
    "pool = Pool(processes=2)\n",
    "\n",
    "def start_mining():\n",
    "    split_data_list = []\n",
    "    split_id = 0\n",
    "    for k, cfg in enumerate(configurations):\n",
    "        for i, (train_didxs, test_didxs) in enumerate(all_splits):\n",
    "            task = (train_didxs, test_didxs, k, cfg, split_id, i)\n",
    "            split_data_list.append(task)\n",
    "            split_id += 1\n",
    "\n",
    "    pool.imap(process_split, split_data_list, chunksize=1)\n",
    "\n",
    "# Check progress\n",
    "def check_progress():\n",
    "    completed = np.sum(done_splits)\n",
    "    total = len(done_splits)\n",
    "    print(f\"Progress: {completed}/{total} ({(completed / total) * 100:.2f}%)\")\n",
    "\n",
    "# End mining\n",
    "def end_mining():\n",
    "    global pool\n",
    "    if pool is not None:\n",
    "        pool.terminate()\n",
    "        pool.close()\n",
    "        pool.join()\n",
    "        pool = None\n",
    "\n",
    "# Example usage\n",
    "start_mining()  # Start mining asynchronously\n",
    "# check_progress()  # Check progress\n",
    "# end_mining()  # Stop the pool when done"
   ]
  },
  {
   "cell_type": "code",
   "execution_count": 14,
   "metadata": {},
   "outputs": [
    {
     "name": "stdout",
     "output_type": "stream",
     "text": [
      "Progress: 4.0/2002 (0.20%)\n"
     ]
    }
   ],
   "source": [
    "'''Check Progress Periodically'''\n",
    "check_progress()"
   ]
  },
  {
   "cell_type": "code",
   "execution_count": 9,
   "metadata": {},
   "outputs": [],
   "source": [
    "'''\n",
    "Get Dataframe of Results\n",
    "'''\n",
    "res_df = evaluate_completed_configs(data, configurations, mmapped_array, done_splits, all_splits, ns)\n",
    "# Add a column to label benchmark configurations\n",
    "res_df['is_benchmark'] = res_df.index == BENCHMARK_ID"
   ]
  },
  {
   "cell_type": "code",
   "execution_count": 10,
   "metadata": {},
   "outputs": [
    {
     "name": "stdout",
     "output_type": "stream",
     "text": [
      "Benchmark Results:\n"
     ]
    },
    {
     "data": {
      "text/html": [
       "<div>\n",
       "<style scoped>\n",
       "    .dataframe tbody tr th:only-of-type {\n",
       "        vertical-align: middle;\n",
       "    }\n",
       "\n",
       "    .dataframe tbody tr th {\n",
       "        vertical-align: top;\n",
       "    }\n",
       "\n",
       "    .dataframe thead th {\n",
       "        text-align: right;\n",
       "    }\n",
       "</style>\n",
       "<table border=\"1\" class=\"dataframe\">\n",
       "  <thead>\n",
       "    <tr style=\"text-align: right;\">\n",
       "      <th></th>\n",
       "      <th>colsample_bytree</th>\n",
       "      <th>max_bin</th>\n",
       "      <th>max_depth</th>\n",
       "      <th>num_leaves</th>\n",
       "      <th>min_child_samples</th>\n",
       "      <th>n_estimators</th>\n",
       "      <th>reg_lambda</th>\n",
       "      <th>learning_rate</th>\n",
       "      <th>target</th>\n",
       "      <th>validation_corr</th>\n",
       "      <th>validation_shp</th>\n",
       "      <th>validation_max_dd</th>\n",
       "      <th>test_corr</th>\n",
       "      <th>test_shp</th>\n",
       "      <th>test_max_dd</th>\n",
       "      <th>whole_corr</th>\n",
       "      <th>whole_shp</th>\n",
       "      <th>whole_max_dd</th>\n",
       "      <th>is_benchmark</th>\n",
       "    </tr>\n",
       "  </thead>\n",
       "  <tbody>\n",
       "    <tr>\n",
       "      <th>0</th>\n",
       "      <td>0.1</td>\n",
       "      <td>5</td>\n",
       "      <td>5</td>\n",
       "      <td>15</td>\n",
       "      <td>20</td>\n",
       "      <td>2000</td>\n",
       "      <td>0.0</td>\n",
       "      <td>0.01</td>\n",
       "      <td>target</td>\n",
       "      <td>0.032018</td>\n",
       "      <td>1.537099</td>\n",
       "      <td>0.088877</td>\n",
       "      <td>0.026162</td>\n",
       "      <td>1.212766</td>\n",
       "      <td>0.088877</td>\n",
       "      <td>0.032018</td>\n",
       "      <td>1.537099</td>\n",
       "      <td>0.088877</td>\n",
       "      <td>True</td>\n",
       "    </tr>\n",
       "  </tbody>\n",
       "</table>\n",
       "</div>"
      ],
      "text/plain": [
       "   colsample_bytree  max_bin  max_depth  num_leaves  min_child_samples  \\\n",
       "0               0.1        5          5          15                 20   \n",
       "\n",
       "   n_estimators  reg_lambda  learning_rate  target  validation_corr  \\\n",
       "0          2000         0.0           0.01  target         0.032018   \n",
       "\n",
       "   validation_shp  validation_max_dd  test_corr  test_shp  test_max_dd  \\\n",
       "0        1.537099           0.088877   0.026162  1.212766     0.088877   \n",
       "\n",
       "   whole_corr  whole_shp  whole_max_dd  is_benchmark  \n",
       "0    0.032018   1.537099      0.088877          True  "
      ]
     },
     "execution_count": 10,
     "metadata": {},
     "output_type": "execute_result"
    }
   ],
   "source": [
    "print(\"Benchmark Results:\")\n",
    "res_df[res_df['is_benchmark']]"
   ]
  },
  {
   "cell_type": "code",
   "execution_count": 11,
   "metadata": {},
   "outputs": [
    {
     "name": "stdout",
     "output_type": "stream",
     "text": [
      "Better Than Benchmark Results:\n"
     ]
    },
    {
     "data": {
      "text/html": [
       "<div>\n",
       "<style scoped>\n",
       "    .dataframe tbody tr th:only-of-type {\n",
       "        vertical-align: middle;\n",
       "    }\n",
       "\n",
       "    .dataframe tbody tr th {\n",
       "        vertical-align: top;\n",
       "    }\n",
       "\n",
       "    .dataframe thead th {\n",
       "        text-align: right;\n",
       "    }\n",
       "</style>\n",
       "<table border=\"1\" class=\"dataframe\">\n",
       "  <thead>\n",
       "    <tr style=\"text-align: right;\">\n",
       "      <th></th>\n",
       "      <th>colsample_bytree</th>\n",
       "      <th>max_bin</th>\n",
       "      <th>max_depth</th>\n",
       "      <th>num_leaves</th>\n",
       "      <th>min_child_samples</th>\n",
       "      <th>n_estimators</th>\n",
       "      <th>reg_lambda</th>\n",
       "      <th>learning_rate</th>\n",
       "      <th>target</th>\n",
       "      <th>validation_corr</th>\n",
       "      <th>validation_shp</th>\n",
       "      <th>validation_max_dd</th>\n",
       "      <th>test_corr</th>\n",
       "      <th>test_shp</th>\n",
       "      <th>test_max_dd</th>\n",
       "      <th>whole_corr</th>\n",
       "      <th>whole_shp</th>\n",
       "      <th>whole_max_dd</th>\n",
       "      <th>is_benchmark</th>\n",
       "    </tr>\n",
       "  </thead>\n",
       "  <tbody>\n",
       "  </tbody>\n",
       "</table>\n",
       "</div>"
      ],
      "text/plain": [
       "Empty DataFrame\n",
       "Columns: [colsample_bytree, max_bin, max_depth, num_leaves, min_child_samples, n_estimators, reg_lambda, learning_rate, target, validation_corr, validation_shp, validation_max_dd, test_corr, test_shp, test_max_dd, whole_corr, whole_shp, whole_max_dd, is_benchmark]\n",
       "Index: []"
      ]
     },
     "execution_count": 11,
     "metadata": {},
     "output_type": "execute_result"
    }
   ],
   "source": [
    "'''\n",
    "\n",
    "Show All Models with Corr and Sharpe higher than benchmark on Entire Data Set\n",
    "\n",
    "'''\n",
    "print(\"Better Than Benchmark Results:\")\n",
    "compare_to_benchmark(res_df)"
   ]
  },
  {
   "cell_type": "code",
   "execution_count": null,
   "metadata": {
    "scrolled": true
   },
   "outputs": [],
   "source": [
    "'''\n",
    "Visualize performance as a function of hyper params\n",
    "'''\n",
    "\n",
    "import matplotlib.pyplot as plt\n",
    "\n",
    "''''show some eval metrics based on each hyperparam, also only see this if we want, should be packages in its own method'''\n",
    "for col in res_df.select_dtypes(include= np.number).columns:\n",
    "    plt.scatter(res_df[col], res_df['eval_shp'], label='test')\n",
    "    plt.scatter(res_df[col], res_df['train_shp'], label='train')\n",
    "    plt.xlabel(col)\n",
    "    plt.legend()\n",
    "    plt.show()"
   ]
  },
  {
   "cell_type": "code",
   "execution_count": 12,
   "metadata": {},
   "outputs": [
    {
     "name": "stderr",
     "output_type": "stream",
     "text": [
      "/tmp/ipykernel_32343/3426284711.py:21: RankWarning: Polyfit may be poorly conditioned\n",
      "  m, b = np.polyfit(x, y, 1)  # Fit line: y = mx + b\n"
     ]
    },
    {
     "data": {
      "image/png": "[encoded data removed]",
      "text/plain": [
       "<Figure size 800x600 with 1 Axes>"
      ]
     },
     "metadata": {},
     "output_type": "display_data"
    }
   ],
   "source": [
    "'''\n",
    "IMPORTANT\n",
    "Understand This Plot\n",
    "Shows the relationship of past fold to future fold performance\n",
    "'''\n",
    "# Identify the benchmark configuration\n",
    "benchmark_idx = BENCHMARK_ID\n",
    "benchmark_validation_shp = res_df.loc[benchmark_idx, 'validation_shp']\n",
    "benchmark_eval_shp = res_df.loc[benchmark_idx, 'test_shp']\n",
    "\n",
    "# Scatter plot with enhancements\n",
    "plt.figure(figsize=(8, 6))\n",
    "plt.scatter(res_df['validation_shp'], res_df['test_shp'], alpha=0.7, label=\"Random Configurations\")\n",
    "\n",
    "# Highlight the benchmark model as a red star\n",
    "plt.scatter(benchmark_validation_shp, benchmark_eval_shp, color='red', s=100, marker='*', label=\"Benchmark Model\")\n",
    "\n",
    "# Add a linear best-fit line\n",
    "x = res_df['validation_shp']\n",
    "y = res_df['test_shp']\n",
    "m, b = np.polyfit(x, y, 1)  # Fit line: y = mx + b\n",
    "plt.plot(x, m*x + b, color='blue', linestyle='--', label=f\"Best Fit Line (y={m:.2f}x + {b:.2f})\")\n",
    "\n",
    "# Add labels, title, and legend\n",
    "plt.xlabel(\"Validation Sharpe\")\n",
    "plt.ylabel(\"Test Sharpe\")\n",
    "plt.title(\"Relationship Between Past Fold and Future Fold Performance\")\n",
    "plt.legend()\n",
    "plt.grid(alpha=0.3)\n",
    "plt.tight_layout()\n",
    "\n",
    "# Show the plot\n",
    "plt.show()\n"
   ]
  },
  {
   "cell_type": "code",
   "execution_count": 16,
   "metadata": {},
   "outputs": [],
   "source": [
    "to_export = [ res_df.sort_values('whole_shp').iloc[-1].name ] #can be a list to ensemble"
   ]
  },
  {
   "cell_type": "code",
   "execution_count": 21,
   "metadata": {},
   "outputs": [
    {
     "name": "stdout",
     "output_type": "stream",
     "text": [
      "Selected ensemble: [2]\n",
      "[LightGBM] [Info] Auto-choosing col-wise multi-threading, the overhead of testing was 14.907838 seconds.\n",
      "You can set `force_col_wise=true` to remove the overhead.\n",
      "[LightGBM] [Info] Total Bins 7128\n",
      "[LightGBM] [Info] Number of data points in the train set: 1947099, number of used features: 2376\n",
      "[LightGBM] [Info] Start training from score 2.000123\n",
      "[LightGBM] [Info] Auto-choosing col-wise multi-threading, the overhead of testing was 28.011435 seconds.\n",
      "You can set `force_col_wise=true` to remove the overhead.\n",
      "[LightGBM] [Info] Total Bins 7128\n",
      "[LightGBM] [Info] Number of data points in the train set: 2746270, number of used features: 2376\n",
      "[LightGBM] [Info] Start training from score 2.000107\n",
      "Predict function saved as predict_model_full.pkl\n"
     ]
    }
   ],
   "source": [
    "evaluate_and_ensemble(to_export, configurations, mmapped_array, data, all_splits, feature_cols, get_model, save_name=\"model\")"
   ]
  },
  {
   "cell_type": "code",
   "execution_count": null,
   "metadata": {},
   "outputs": [],
   "source": []
  }
 ],
 "metadata": {
  "kernelspec": {
   "display_name": "ml310",
   "language": "python",
   "name": "ml310"
  },
  "language_info": {
   "codemirror_mode": {
    "name": "ipython",
    "version": 3
   },
   "file_extension": ".py",
   "mimetype": "text/x-python",
   "name": "python",
   "nbconvert_exporter": "python",
   "pygments_lexer": "ipython3",
   "version": "3.10.14"
  }
 },
 "nbformat": 4,
 "nbformat_minor": 4
}
